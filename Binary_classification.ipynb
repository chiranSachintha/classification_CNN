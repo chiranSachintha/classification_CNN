{
  "nbformat": 4,
  "nbformat_minor": 0,
  "metadata": {
    "colab": {
      "name": "Untitled7.ipynb",
      "version": "0.3.2",
      "provenance": [],
      "collapsed_sections": [],
      "include_colab_link": true
    },
    "kernelspec": {
      "name": "python3",
      "display_name": "Python 3"
    },
    "accelerator": "GPU"
  },
  "cells": [
    {
      "cell_type": "markdown",
      "metadata": {
        "id": "view-in-github",
        "colab_type": "text"
      },
      "source": [
        "<a href=\"https://colab.research.google.com/github/chiranSachintha/classification_CNN/blob/master/Binary_classification.ipynb\" target=\"_parent\"><img src=\"https://colab.research.google.com/assets/colab-badge.svg\" alt=\"Open In Colab\"/></a>"
      ]
    },
    {
      "cell_type": "code",
      "metadata": {
        "id": "FtK4NTMtGEKh",
        "colab_type": "code",
        "colab": {}
      },
      "source": [
        "from keras.models import Sequential\n",
        "from keras.layers import Conv2D\n",
        "from keras.layers import MaxPooling2D\n",
        "from keras.layers import Flatten\n",
        "from keras.layers import Dense\n",
        "from keras.preprocessing.image import ImageDataGenerator\n",
        "from PIL import Image\n",
        "import numpy as np"
      ],
      "execution_count": 0,
      "outputs": []
    },
    {
      "cell_type": "code",
      "metadata": {
        "id": "fELVmQGOKNUx",
        "colab_type": "code",
        "colab": {}
      },
      "source": [
        "classifier = Sequential()"
      ],
      "execution_count": 0,
      "outputs": []
    },
    {
      "cell_type": "code",
      "metadata": {
        "id": "F_-QEu16KchG",
        "colab_type": "code",
        "colab": {}
      },
      "source": [
        "classifier.add(Conv2D(32, (3,3), input_shape = (64,64,3), activation = 'relu'))"
      ],
      "execution_count": 0,
      "outputs": []
    },
    {
      "cell_type": "code",
      "metadata": {
        "id": "fi9_2upsK4cV",
        "colab_type": "code",
        "colab": {}
      },
      "source": [
        "classifier.add(MaxPooling2D(pool_size = (2,2)))"
      ],
      "execution_count": 0,
      "outputs": []
    },
    {
      "cell_type": "code",
      "metadata": {
        "id": "ETfZAjSBLH2q",
        "colab_type": "code",
        "colab": {}
      },
      "source": [
        "classifier.add(Flatten())"
      ],
      "execution_count": 0,
      "outputs": []
    },
    {
      "cell_type": "code",
      "metadata": {
        "id": "TjExWF-BLbYS",
        "colab_type": "code",
        "colab": {}
      },
      "source": [
        "classifier.add(Dense(units = 128, activation = 'relu'))"
      ],
      "execution_count": 0,
      "outputs": []
    },
    {
      "cell_type": "code",
      "metadata": {
        "id": "bDWbe7VGLtpt",
        "colab_type": "code",
        "colab": {}
      },
      "source": [
        "classifier.add(Dense(units = 1, activation = 'sigmoid'))"
      ],
      "execution_count": 0,
      "outputs": []
    },
    {
      "cell_type": "code",
      "metadata": {
        "id": "-8HSmFL4MGgo",
        "colab_type": "code",
        "colab": {}
      },
      "source": [
        "classifier.compile(optimizer = 'adam', loss = 'binary_crossentropy', metrics = ['accuracy'])"
      ],
      "execution_count": 0,
      "outputs": []
    },
    {
      "cell_type": "code",
      "metadata": {
        "id": "1VgqrSx6MZOp",
        "colab_type": "code",
        "colab": {}
      },
      "source": [
        "train_datagen = ImageDataGenerator(\n",
        "    rescale=1. / 255,\n",
        "    shear_range=0.2,\n",
        "    zoom_range=0.2,\n",
        "    horizontal_flip=True\n",
        ")\n",
        "test_datagen = ImageDataGenerator(rescale=1. / 255)"
      ],
      "execution_count": 0,
      "outputs": []
    },
    {
      "cell_type": "code",
      "metadata": {
        "id": "OKsUzAZwvvVg",
        "colab_type": "code",
        "colab": {}
      },
      "source": [
        "!git clone https://github.com/chiranSachintha/classification_CNN"
      ],
      "execution_count": 0,
      "outputs": []
    },
    {
      "cell_type": "code",
      "metadata": {
        "id": "GDN-txOuwQzL",
        "colab_type": "code",
        "colab": {}
      },
      "source": [
        "train_data_dir = 'classification_CNN/training_set-20190625T060517Z-001/training_set'\n",
        "test_data_dir = 'classification_CNN/test_set-20190625T060126Z-001/test_set'\n",
        "\n",
        "train_generator = train_datagen.flow_from_directory(\n",
        "    train_data_dir,\n",
        "    target_size=(64, 64),\n",
        "    batch_size=32,\n",
        "    class_mode='binary'\n",
        ")\n",
        "\n",
        "test_generator = test_datagen.flow_from_directory(\n",
        "    test_data_dir,\n",
        "    target_size=(64, 64),\n",
        "    batch_size= 32,\n",
        "    class_mode = 'binary'\n",
        ")\n"
      ],
      "execution_count": 0,
      "outputs": []
    },
    {
      "cell_type": "code",
      "metadata": {
        "id": "1_6jSVuGrcLY",
        "colab_type": "code",
        "colab": {}
      },
      "source": [
        "train_generator.class_indices"
      ],
      "execution_count": 0,
      "outputs": []
    },
    {
      "cell_type": "code",
      "metadata": {
        "id": "jeo8BQccfK8l",
        "colab_type": "code",
        "colab": {}
      },
      "source": [
        "datum = next(train_generator)\n",
        "image_batch, label_batch = datum\n",
        "image_batch.shape\n",
        "#label_batch.shape\n",
        "k = 20\n",
        "image = image_batch[k, ...]\n",
        "label = label_batch[k, ...]\n",
        "label\n",
        "train_generator.class_indices\n"
      ],
      "execution_count": 0,
      "outputs": []
    },
    {
      "cell_type": "code",
      "metadata": {
        "id": "CvqPvEBv7wdA",
        "colab_type": "code",
        "colab": {}
      },
      "source": [
        "classifier.fit_generator(\n",
        "    train_generator,\n",
        "    steps_per_epoch = 8000//32,\n",
        "    epochs = 25,\n",
        "    validation_data = test_generator,\n",
        "    validation_steps = 2000//32)\n",
        "\n"
      ],
      "execution_count": 0,
      "outputs": []
    },
    {
      "cell_type": "code",
      "metadata": {
        "id": "Xaxfb7epD1QI",
        "colab_type": "code",
        "colab": {}
      },
      "source": [
        "#img = Image.open('classification_CNN/training_set-20190625T060517Z-001/training_set/dogs/dog.1003.jpg')\n",
        "img = Image.open('images.jpg')\n",
        "img = img.resize((64, 64), Image.BILINEAR)  \n",
        "np.shape(img)\n",
        "img"
      ],
      "execution_count": 0,
      "outputs": []
    },
    {
      "cell_type": "code",
      "metadata": {
        "id": "7Q1j8Wo4FiVe",
        "colab_type": "code",
        "colab": {}
      },
      "source": [
        "img = np.array(img) / 255"
      ],
      "execution_count": 0,
      "outputs": []
    },
    {
      "cell_type": "code",
      "metadata": {
        "id": "aJPa0t2hKodu",
        "colab_type": "code",
        "outputId": "d97e09ed-df89-430c-f16b-aac584956d40",
        "colab": {
          "base_uri": "https://localhost:8080/",
          "height": 34
        }
      },
      "source": [
        "img = img[np.newaxis, ...]\n",
        "img.shape"
      ],
      "execution_count": 37,
      "outputs": [
        {
          "output_type": "execute_result",
          "data": {
            "text/plain": [
              "(1, 1, 64, 64, 3)"
            ]
          },
          "metadata": {
            "tags": []
          },
          "execution_count": 37
        }
      ]
    },
    {
      "cell_type": "code",
      "metadata": {
        "id": "9Cw0oSe2GMYb",
        "colab_type": "code",
        "outputId": "34a8280a-342d-4877-847e-b1ec570667fb",
        "colab": {
          "base_uri": "https://localhost:8080/",
          "height": 34
        }
      },
      "source": [
        "out = classifier.predict_on_batch(img)\n",
        "out"
      ],
      "execution_count": 31,
      "outputs": [
        {
          "output_type": "execute_result",
          "data": {
            "text/plain": [
              "array([[0.94657284]], dtype=float32)"
            ]
          },
          "metadata": {
            "tags": []
          },
          "execution_count": 31
        }
      ]
    },
    {
      "cell_type": "code",
      "metadata": {
        "id": "WEQcfxPdxiw1",
        "colab_type": "code",
        "outputId": "cb9669c9-3d1e-4f98-834a-de2094c25fd5",
        "colab": {
          "base_uri": "https://localhost:8080/",
          "height": 34
        }
      },
      "source": [
        "if out < 0.5:\n",
        "  print('cat')\n",
        "else:\n",
        "  print('dog')"
      ],
      "execution_count": 32,
      "outputs": [
        {
          "output_type": "stream",
          "text": [
            "dog\n"
          ],
          "name": "stdout"
        }
      ]
    }
  ]
}